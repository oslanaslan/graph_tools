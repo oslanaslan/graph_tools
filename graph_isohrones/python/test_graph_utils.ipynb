{
 "cells": [
  {
   "cell_type": "code",
   "execution_count": 2,
   "metadata": {},
   "outputs": [],
   "source": [
    "import os\n",
    "from collections import defaultdict\n",
    "import numpy as np\n",
    "import pandas as pd\n",
    "import networkx as nx\n",
    "import osmnx as ox\n",
    "\n",
    "import build.graph_utils.graph_utils as graph_utils"
   ]
  },
  {
   "cell_type": "markdown",
   "metadata": {},
   "source": [
    "# Test graph"
   ]
  },
  {
   "cell_type": "code",
   "execution_count": 3,
   "metadata": {},
   "outputs": [
    {
     "data": {
      "text/plain": [
       "{'__name__': 'build.graph_utils.graph_utils',\n",
       " '__doc__': 'Graph utils',\n",
       " '__package__': 'build.graph_utils',\n",
       " '__loader__': <_frozen_importlib_external.ExtensionFileLoader at 0x15d608390>,\n",
       " '__spec__': ModuleSpec(name='build.graph_utils.graph_utils', loader=<_frozen_importlib_external.ExtensionFileLoader object at 0x15d608390>, origin='/Users/a.ashabokov/Documents/github/graph_processing_tools/graph_isohrones/build/graph_utils/graph_utils.so'),\n",
       " 'single_source_dijkstra': <function build.graph_utils.graph_utils.PyCapsule.single_source_dijkstra>,\n",
       " 'multi_source_dijkstra': <function build.graph_utils.graph_utils.PyCapsule.multi_source_dijkstra>,\n",
       " '__file__': '/Users/a.ashabokov/Documents/github/graph_processing_tools/graph_isohrones/build/graph_utils/graph_utils.so'}"
      ]
     },
     "execution_count": 3,
     "metadata": {},
     "output_type": "execute_result"
    }
   ],
   "source": [
    "graph_utils.__dict__"
   ]
  },
  {
   "cell_type": "code",
   "execution_count": 4,
   "metadata": {},
   "outputs": [],
   "source": [
    "graph = ox.load_graphml(\"test_graph_data/tiva_region.graphml\")\n",
    "nodes_df, edges_df = ox.graph_to_gdfs(graph)"
   ]
  },
  {
   "cell_type": "code",
   "execution_count": 5,
   "metadata": {},
   "outputs": [
    {
     "data": {
      "text/html": [
       "<div>\n",
       "<style scoped>\n",
       "    .dataframe tbody tr th:only-of-type {\n",
       "        vertical-align: middle;\n",
       "    }\n",
       "\n",
       "    .dataframe tbody tr th {\n",
       "        vertical-align: top;\n",
       "    }\n",
       "\n",
       "    .dataframe thead th {\n",
       "        text-align: right;\n",
       "    }\n",
       "</style>\n",
       "<table border=\"1\" class=\"dataframe\">\n",
       "  <thead>\n",
       "    <tr style=\"text-align: right;\">\n",
       "      <th></th>\n",
       "      <th>y</th>\n",
       "      <th>x</th>\n",
       "      <th>street_count</th>\n",
       "      <th>highway</th>\n",
       "      <th>geometry</th>\n",
       "    </tr>\n",
       "    <tr>\n",
       "      <th>osmid</th>\n",
       "      <th></th>\n",
       "      <th></th>\n",
       "      <th></th>\n",
       "      <th></th>\n",
       "      <th></th>\n",
       "    </tr>\n",
       "  </thead>\n",
       "  <tbody>\n",
       "    <tr>\n",
       "      <th>2124710929</th>\n",
       "      <td>50.614446</td>\n",
       "      <td>97.386298</td>\n",
       "      <td>1</td>\n",
       "      <td>NaN</td>\n",
       "      <td>POINT (97.38630 50.61445)</td>\n",
       "    </tr>\n",
       "    <tr>\n",
       "      <th>2511734347</th>\n",
       "      <td>50.588890</td>\n",
       "      <td>97.481463</td>\n",
       "      <td>3</td>\n",
       "      <td>NaN</td>\n",
       "      <td>POINT (97.48146 50.58889)</td>\n",
       "    </tr>\n",
       "    <tr>\n",
       "      <th>2511734360</th>\n",
       "      <td>50.590414</td>\n",
       "      <td>97.533801</td>\n",
       "      <td>3</td>\n",
       "      <td>NaN</td>\n",
       "      <td>POINT (97.53380 50.59041)</td>\n",
       "    </tr>\n",
       "    <tr>\n",
       "      <th>2511734445</th>\n",
       "      <td>50.590637</td>\n",
       "      <td>97.529634</td>\n",
       "      <td>4</td>\n",
       "      <td>NaN</td>\n",
       "      <td>POINT (97.52963 50.59064)</td>\n",
       "    </tr>\n",
       "    <tr>\n",
       "      <th>2511734504</th>\n",
       "      <td>50.590746</td>\n",
       "      <td>97.535976</td>\n",
       "      <td>3</td>\n",
       "      <td>NaN</td>\n",
       "      <td>POINT (97.53598 50.59075)</td>\n",
       "    </tr>\n",
       "  </tbody>\n",
       "</table>\n",
       "</div>"
      ],
      "text/plain": [
       "                    y          x  street_count highway  \\\n",
       "osmid                                                    \n",
       "2124710929  50.614446  97.386298             1     NaN   \n",
       "2511734347  50.588890  97.481463             3     NaN   \n",
       "2511734360  50.590414  97.533801             3     NaN   \n",
       "2511734445  50.590637  97.529634             4     NaN   \n",
       "2511734504  50.590746  97.535976             3     NaN   \n",
       "\n",
       "                             geometry  \n",
       "osmid                                  \n",
       "2124710929  POINT (97.38630 50.61445)  \n",
       "2511734347  POINT (97.48146 50.58889)  \n",
       "2511734360  POINT (97.53380 50.59041)  \n",
       "2511734445  POINT (97.52963 50.59064)  \n",
       "2511734504  POINT (97.53598 50.59075)  "
      ]
     },
     "execution_count": 5,
     "metadata": {},
     "output_type": "execute_result"
    }
   ],
   "source": [
    "nodes_df.head()"
   ]
  },
  {
   "cell_type": "code",
   "execution_count": 6,
   "metadata": {},
   "outputs": [
    {
     "data": {
      "text/html": [
       "<div>\n",
       "<style scoped>\n",
       "    .dataframe tbody tr th:only-of-type {\n",
       "        vertical-align: middle;\n",
       "    }\n",
       "\n",
       "    .dataframe tbody tr th {\n",
       "        vertical-align: top;\n",
       "    }\n",
       "\n",
       "    .dataframe thead th {\n",
       "        text-align: right;\n",
       "    }\n",
       "</style>\n",
       "<table border=\"1\" class=\"dataframe\">\n",
       "  <thead>\n",
       "    <tr style=\"text-align: right;\">\n",
       "      <th></th>\n",
       "      <th></th>\n",
       "      <th></th>\n",
       "      <th>osmid</th>\n",
       "      <th>bridge</th>\n",
       "      <th>highway</th>\n",
       "      <th>oneway</th>\n",
       "      <th>reversed</th>\n",
       "      <th>length</th>\n",
       "      <th>geometry</th>\n",
       "      <th>name</th>\n",
       "      <th>maxspeed</th>\n",
       "      <th>ref</th>\n",
       "      <th>lanes</th>\n",
       "      <th>junction</th>\n",
       "      <th>service</th>\n",
       "      <th>width</th>\n",
       "      <th>tunnel</th>\n",
       "      <th>access</th>\n",
       "    </tr>\n",
       "    <tr>\n",
       "      <th>u</th>\n",
       "      <th>v</th>\n",
       "      <th>key</th>\n",
       "      <th></th>\n",
       "      <th></th>\n",
       "      <th></th>\n",
       "      <th></th>\n",
       "      <th></th>\n",
       "      <th></th>\n",
       "      <th></th>\n",
       "      <th></th>\n",
       "      <th></th>\n",
       "      <th></th>\n",
       "      <th></th>\n",
       "      <th></th>\n",
       "      <th></th>\n",
       "      <th></th>\n",
       "      <th></th>\n",
       "      <th></th>\n",
       "    </tr>\n",
       "  </thead>\n",
       "  <tbody>\n",
       "    <tr>\n",
       "      <th>2124710929</th>\n",
       "      <th>2511738000</th>\n",
       "      <th>0</th>\n",
       "      <td>[202504192, 202504193, 202504194, 243816002]</td>\n",
       "      <td>yes</td>\n",
       "      <td>[path, footway]</td>\n",
       "      <td>False</td>\n",
       "      <td>[False, True]</td>\n",
       "      <td>1422.554</td>\n",
       "      <td>LINESTRING (97.38630 50.61445, 97.39014 50.614...</td>\n",
       "      <td>NaN</td>\n",
       "      <td>NaN</td>\n",
       "      <td>NaN</td>\n",
       "      <td>NaN</td>\n",
       "      <td>NaN</td>\n",
       "      <td>NaN</td>\n",
       "      <td>NaN</td>\n",
       "      <td>NaN</td>\n",
       "      <td>NaN</td>\n",
       "    </tr>\n",
       "    <tr>\n",
       "      <th rowspan=\"3\" valign=\"top\">2511734347</th>\n",
       "      <th>10741401701</th>\n",
       "      <th>0</th>\n",
       "      <td>[243816009, 243815980, 243815988]</td>\n",
       "      <td>yes</td>\n",
       "      <td>track</td>\n",
       "      <td>False</td>\n",
       "      <td>False</td>\n",
       "      <td>933.430</td>\n",
       "      <td>LINESTRING (97.48146 50.58889, 97.48217 50.589...</td>\n",
       "      <td>NaN</td>\n",
       "      <td>NaN</td>\n",
       "      <td>NaN</td>\n",
       "      <td>NaN</td>\n",
       "      <td>NaN</td>\n",
       "      <td>NaN</td>\n",
       "      <td>NaN</td>\n",
       "      <td>NaN</td>\n",
       "      <td>NaN</td>\n",
       "    </tr>\n",
       "    <tr>\n",
       "      <th>10741401841</th>\n",
       "      <th>0</th>\n",
       "      <td>243815980</td>\n",
       "      <td>NaN</td>\n",
       "      <td>track</td>\n",
       "      <td>False</td>\n",
       "      <td>True</td>\n",
       "      <td>300.802</td>\n",
       "      <td>LINESTRING (97.48146 50.58889, 97.48067 50.588...</td>\n",
       "      <td>NaN</td>\n",
       "      <td>NaN</td>\n",
       "      <td>NaN</td>\n",
       "      <td>NaN</td>\n",
       "      <td>NaN</td>\n",
       "      <td>NaN</td>\n",
       "      <td>NaN</td>\n",
       "      <td>NaN</td>\n",
       "      <td>NaN</td>\n",
       "    </tr>\n",
       "    <tr>\n",
       "      <th>10741401700</th>\n",
       "      <th>0</th>\n",
       "      <td>1155003958</td>\n",
       "      <td>NaN</td>\n",
       "      <td>track</td>\n",
       "      <td>False</td>\n",
       "      <td>False</td>\n",
       "      <td>1406.467</td>\n",
       "      <td>LINESTRING (97.48146 50.58889, 97.47995 50.588...</td>\n",
       "      <td>NaN</td>\n",
       "      <td>NaN</td>\n",
       "      <td>NaN</td>\n",
       "      <td>NaN</td>\n",
       "      <td>NaN</td>\n",
       "      <td>NaN</td>\n",
       "      <td>NaN</td>\n",
       "      <td>NaN</td>\n",
       "      <td>NaN</td>\n",
       "    </tr>\n",
       "    <tr>\n",
       "      <th>2511734360</th>\n",
       "      <th>2511734820</th>\n",
       "      <th>0</th>\n",
       "      <td>243815985</td>\n",
       "      <td>NaN</td>\n",
       "      <td>residential</td>\n",
       "      <td>False</td>\n",
       "      <td>False</td>\n",
       "      <td>379.231</td>\n",
       "      <td>LINESTRING (97.53380 50.59041, 97.53321 50.590...</td>\n",
       "      <td>Комсомольская улица</td>\n",
       "      <td>NaN</td>\n",
       "      <td>NaN</td>\n",
       "      <td>NaN</td>\n",
       "      <td>NaN</td>\n",
       "      <td>NaN</td>\n",
       "      <td>NaN</td>\n",
       "      <td>NaN</td>\n",
       "      <td>NaN</td>\n",
       "    </tr>\n",
       "  </tbody>\n",
       "</table>\n",
       "</div>"
      ],
      "text/plain": [
       "                                                                   osmid  \\\n",
       "u          v           key                                                 \n",
       "2124710929 2511738000  0    [202504192, 202504193, 202504194, 243816002]   \n",
       "2511734347 10741401701 0               [243816009, 243815980, 243815988]   \n",
       "           10741401841 0                                       243815980   \n",
       "           10741401700 0                                      1155003958   \n",
       "2511734360 2511734820  0                                       243815985   \n",
       "\n",
       "                           bridge          highway  oneway       reversed  \\\n",
       "u          v           key                                                  \n",
       "2124710929 2511738000  0      yes  [path, footway]   False  [False, True]   \n",
       "2511734347 10741401701 0      yes            track   False          False   \n",
       "           10741401841 0      NaN            track   False           True   \n",
       "           10741401700 0      NaN            track   False          False   \n",
       "2511734360 2511734820  0      NaN      residential   False          False   \n",
       "\n",
       "                              length  \\\n",
       "u          v           key             \n",
       "2124710929 2511738000  0    1422.554   \n",
       "2511734347 10741401701 0     933.430   \n",
       "           10741401841 0     300.802   \n",
       "           10741401700 0    1406.467   \n",
       "2511734360 2511734820  0     379.231   \n",
       "\n",
       "                                                                     geometry  \\\n",
       "u          v           key                                                      \n",
       "2124710929 2511738000  0    LINESTRING (97.38630 50.61445, 97.39014 50.614...   \n",
       "2511734347 10741401701 0    LINESTRING (97.48146 50.58889, 97.48217 50.589...   \n",
       "           10741401841 0    LINESTRING (97.48146 50.58889, 97.48067 50.588...   \n",
       "           10741401700 0    LINESTRING (97.48146 50.58889, 97.47995 50.588...   \n",
       "2511734360 2511734820  0    LINESTRING (97.53380 50.59041, 97.53321 50.590...   \n",
       "\n",
       "                                           name maxspeed  ref lanes junction  \\\n",
       "u          v           key                                                     \n",
       "2124710929 2511738000  0                    NaN      NaN  NaN   NaN      NaN   \n",
       "2511734347 10741401701 0                    NaN      NaN  NaN   NaN      NaN   \n",
       "           10741401841 0                    NaN      NaN  NaN   NaN      NaN   \n",
       "           10741401700 0                    NaN      NaN  NaN   NaN      NaN   \n",
       "2511734360 2511734820  0    Комсомольская улица      NaN  NaN   NaN      NaN   \n",
       "\n",
       "                           service width tunnel access  \n",
       "u          v           key                              \n",
       "2124710929 2511738000  0       NaN   NaN    NaN    NaN  \n",
       "2511734347 10741401701 0       NaN   NaN    NaN    NaN  \n",
       "           10741401841 0       NaN   NaN    NaN    NaN  \n",
       "           10741401700 0       NaN   NaN    NaN    NaN  \n",
       "2511734360 2511734820  0       NaN   NaN    NaN    NaN  "
      ]
     },
     "execution_count": 6,
     "metadata": {},
     "output_type": "execute_result"
    }
   ],
   "source": [
    "edges_df.head()"
   ]
  },
  {
   "cell_type": "code",
   "execution_count": 3,
   "metadata": {},
   "outputs": [
    {
     "data": {
      "text/html": [
       "<div>\n",
       "<style scoped>\n",
       "    .dataframe tbody tr th:only-of-type {\n",
       "        vertical-align: middle;\n",
       "    }\n",
       "\n",
       "    .dataframe tbody tr th {\n",
       "        vertical-align: top;\n",
       "    }\n",
       "\n",
       "    .dataframe thead th {\n",
       "        text-align: right;\n",
       "    }\n",
       "</style>\n",
       "<table border=\"1\" class=\"dataframe\">\n",
       "  <thead>\n",
       "    <tr style=\"text-align: right;\">\n",
       "      <th></th>\n",
       "      <th>u</th>\n",
       "      <th>v</th>\n",
       "      <th>length</th>\n",
       "    </tr>\n",
       "  </thead>\n",
       "  <tbody>\n",
       "    <tr>\n",
       "      <th>20424</th>\n",
       "      <td>8395624086</td>\n",
       "      <td>6308368309</td>\n",
       "      <td>0.056</td>\n",
       "    </tr>\n",
       "    <tr>\n",
       "      <th>16266</th>\n",
       "      <td>6308368309</td>\n",
       "      <td>8395624086</td>\n",
       "      <td>0.056</td>\n",
       "    </tr>\n",
       "    <tr>\n",
       "      <th>20992</th>\n",
       "      <td>8452168701</td>\n",
       "      <td>4113519640</td>\n",
       "      <td>0.178</td>\n",
       "    </tr>\n",
       "    <tr>\n",
       "      <th>10333</th>\n",
       "      <td>4113519640</td>\n",
       "      <td>8452168701</td>\n",
       "      <td>0.178</td>\n",
       "    </tr>\n",
       "    <tr>\n",
       "      <th>6227</th>\n",
       "      <td>409084387</td>\n",
       "      <td>8343879824</td>\n",
       "      <td>0.331</td>\n",
       "    </tr>\n",
       "    <tr>\n",
       "      <th>...</th>\n",
       "      <td>...</td>\n",
       "      <td>...</td>\n",
       "      <td>...</td>\n",
       "    </tr>\n",
       "    <tr>\n",
       "      <th>3196</th>\n",
       "      <td>1328782656</td>\n",
       "      <td>1845588962</td>\n",
       "      <td>62621.307</td>\n",
       "    </tr>\n",
       "    <tr>\n",
       "      <th>33510</th>\n",
       "      <td>3384073699</td>\n",
       "      <td>3383912716</td>\n",
       "      <td>84339.932</td>\n",
       "    </tr>\n",
       "    <tr>\n",
       "      <th>33464</th>\n",
       "      <td>3383912716</td>\n",
       "      <td>3384073699</td>\n",
       "      <td>84339.932</td>\n",
       "    </tr>\n",
       "    <tr>\n",
       "      <th>250</th>\n",
       "      <td>3225000321</td>\n",
       "      <td>3090156324</td>\n",
       "      <td>127715.862</td>\n",
       "    </tr>\n",
       "    <tr>\n",
       "      <th>681</th>\n",
       "      <td>3090156324</td>\n",
       "      <td>3225000321</td>\n",
       "      <td>127715.862</td>\n",
       "    </tr>\n",
       "  </tbody>\n",
       "</table>\n",
       "<p>47378 rows × 3 columns</p>\n",
       "</div>"
      ],
      "text/plain": [
       "                u           v      length\n",
       "20424  8395624086  6308368309       0.056\n",
       "16266  6308368309  8395624086       0.056\n",
       "20992  8452168701  4113519640       0.178\n",
       "10333  4113519640  8452168701       0.178\n",
       "6227    409084387  8343879824       0.331\n",
       "...           ...         ...         ...\n",
       "3196   1328782656  1845588962   62621.307\n",
       "33510  3384073699  3383912716   84339.932\n",
       "33464  3383912716  3384073699   84339.932\n",
       "250    3225000321  3090156324  127715.862\n",
       "681    3090156324  3225000321  127715.862\n",
       "\n",
       "[47378 rows x 3 columns]"
      ]
     },
     "execution_count": 3,
     "metadata": {},
     "output_type": "execute_result"
    }
   ],
   "source": [
    "graph = ox.load_graphml(\"test_graph_data/tiva_region.graphml\")\n",
    "nodes_df, edges_df = ox.graph_to_gdfs(graph)\n",
    "edges_df.reset_index(drop=False, inplace=True)\n",
    "edges_df = edges_df[['u', 'v', 'length']]\n",
    "edges_df = edges_df.sort_values(\"length\").drop_duplicates(keep=\"first\")\n",
    "edges_df['u'] = edges_df['u'].astype(str)\n",
    "edges_df['v'] = edges_df['v'].astype(str)\n",
    "edges_df['length'] = edges_df['length'].astype(float)\n",
    "edges_df.dropna(inplace=True)\n",
    "# edges_df = edges_df.groupby(['u', 'v']).agg('first')\n",
    "edges_df"
   ]
  },
  {
   "cell_type": "code",
   "execution_count": 4,
   "metadata": {},
   "outputs": [],
   "source": [
    "weights = defaultdict(dict)\n",
    "\n",
    "for _, row in edges_df.iterrows():\n",
    "    weights[row['u']][row['v']] = row['length']\n",
    "\n",
    "weights = dict(weights)"
   ]
  },
  {
   "cell_type": "code",
   "execution_count": 5,
   "metadata": {},
   "outputs": [
    {
     "data": {
      "text/plain": [
       "16720"
      ]
     },
     "execution_count": 5,
     "metadata": {},
     "output_type": "execute_result"
    }
   ],
   "source": [
    "start_nodes_lst = nodes_df.reset_index(drop=False)['osmid'].astype(str).to_list()\n",
    "len(start_nodes_lst)"
   ]
  },
  {
   "cell_type": "code",
   "execution_count": 7,
   "metadata": {},
   "outputs": [],
   "source": [
    "np.random.shuffle(start_nodes_lst)"
   ]
  },
  {
   "cell_type": "code",
   "execution_count": 17,
   "metadata": {},
   "outputs": [
    {
     "name": "stderr",
     "output_type": "stream",
     "text": [
      "  0%|          | 0/1000 [00:00<?, ?it/s]"
     ]
    },
    {
     "name": "stderr",
     "output_type": "stream",
     "text": [
      " 82%|████████▏ | 820/1000 [11:26<02:30,  1.19it/s, 6343333679] \n"
     ]
    },
    {
     "ename": "KeyboardInterrupt",
     "evalue": "",
     "output_type": "error",
     "traceback": [
      "\u001b[0;31m---------------------------------------------------------------------------\u001b[0m",
      "\u001b[0;31mKeyboardInterrupt\u001b[0m                         Traceback (most recent call last)",
      "Cell \u001b[0;32mIn[17], line 8\u001b[0m\n\u001b[1;32m      6\u001b[0m \u001b[38;5;28;01mfor\u001b[39;00m start \u001b[38;5;129;01min\u001b[39;00m pbar:\n\u001b[1;32m      7\u001b[0m     pbar\u001b[38;5;241m.\u001b[39mset_postfix_str(start)\n\u001b[0;32m----> 8\u001b[0m     res \u001b[38;5;241m=\u001b[39m \u001b[43mgraph_utils\u001b[49m\u001b[38;5;241;43m.\u001b[39;49m\u001b[43msingle_source_dijkstra\u001b[49m\u001b[43m(\u001b[49m\u001b[43mweights\u001b[49m\u001b[43m,\u001b[49m\u001b[43m \u001b[49m\u001b[43mstart\u001b[49m\u001b[43m,\u001b[49m\u001b[43m \u001b[49m\u001b[38;5;241;43m10_000\u001b[39;49m\u001b[43m)\u001b[49m\n\u001b[1;32m      9\u001b[0m     res_lst\u001b[38;5;241m.\u001b[39mappend(res)\n",
      "\u001b[0;31mKeyboardInterrupt\u001b[0m: "
     ]
    }
   ],
   "source": [
    "from tqdm import tqdm\n",
    "\n",
    "pbar = tqdm(start_nodes_lst[:1000])\n",
    "res_lst = []\n",
    "\n",
    "for start in pbar:\n",
    "    pbar.set_postfix_str(start)\n",
    "    res = graph_utils.single_source_dijkstra(weights, start, 10_000)\n",
    "    res_lst.append(res)"
   ]
  },
  {
   "cell_type": "code",
   "execution_count": 10,
   "metadata": {},
   "outputs": [
    {
     "name": "stdout",
     "output_type": "stream",
     "text": [
      "CPU times: user 1h 39min 36s, sys: 35.4 s, total: 1h 40min 12s\n",
      "Wall time: 14min 33s\n"
     ]
    }
   ],
   "source": [
    "%%time\n",
    "res = graph_utils.multi_source_dijkstra(weights, start_nodes_lst, 5_000, 8)"
   ]
  },
  {
   "cell_type": "code",
   "execution_count": 8,
   "metadata": {},
   "outputs": [
    {
     "name": "stderr",
     "output_type": "stream",
     "text": [
      "  2%|▏         | 22/1000 [00:23<17:13,  1.06s/it, 1463982761] \n"
     ]
    },
    {
     "ename": "KeyboardInterrupt",
     "evalue": "",
     "output_type": "error",
     "traceback": [
      "\u001b[0;31m---------------------------------------------------------------------------\u001b[0m",
      "\u001b[0;31mKeyboardInterrupt\u001b[0m                         Traceback (most recent call last)",
      "Cell \u001b[0;32mIn[8], line 8\u001b[0m\n\u001b[1;32m      6\u001b[0m \u001b[38;5;28;01mfor\u001b[39;00m start \u001b[38;5;129;01min\u001b[39;00m pbar:\n\u001b[1;32m      7\u001b[0m     pbar\u001b[38;5;241m.\u001b[39mset_postfix_str(start)\n\u001b[0;32m----> 8\u001b[0m     res \u001b[38;5;241m=\u001b[39m \u001b[43mgraph_utils\u001b[49m\u001b[38;5;241;43m.\u001b[39;49m\u001b[43msingle_source_dijkstra\u001b[49m\u001b[43m(\u001b[49m\u001b[43mweights\u001b[49m\u001b[43m,\u001b[49m\u001b[43m \u001b[49m\u001b[43mstart\u001b[49m\u001b[43m,\u001b[49m\u001b[43m \u001b[49m\u001b[38;5;241;43m10_000\u001b[39;49m\u001b[43m)\u001b[49m\n\u001b[1;32m      9\u001b[0m     res_lst\u001b[38;5;241m.\u001b[39mappend(res)\n",
      "\u001b[0;31mKeyboardInterrupt\u001b[0m: "
     ]
    }
   ],
   "source": [
    "from tqdm import tqdm\n",
    "\n",
    "pbar = tqdm(start_nodes_lst[:1000])\n",
    "res_lst = []\n",
    "\n",
    "for start in pbar:\n",
    "    pbar.set_postfix_str(start)\n",
    "    res = graph_utils.single_source_dijkstra(weights, start, 10_000)\n",
    "    res_lst.append(res)"
   ]
  },
  {
   "cell_type": "code",
   "execution_count": null,
   "metadata": {},
   "outputs": [],
   "source": []
  },
  {
   "cell_type": "markdown",
   "metadata": {},
   "source": [
    "# Test geohash"
   ]
  },
  {
   "cell_type": "code",
   "execution_count": 2,
   "metadata": {},
   "outputs": [],
   "source": [
    "import os\n",
    "from icecream import ic\n",
    "import pandas as pd\n",
    "\n",
    "os.chdir(\"..\")\n",
    "\n",
    "import build.graph_utils.graph_utils as graph_utils\n",
    "from old_geohash import encode, rectangle, decode\n",
    "from new_geohash import encode as new_encode\n",
    "from dskit_ghash_utils import encode as dskit_encode"
   ]
  },
  {
   "cell_type": "code",
   "execution_count": 5,
   "metadata": {},
   "outputs": [
    {
     "name": "stdout",
     "output_type": "stream",
     "text": [
      "(234, 6)\n"
     ]
    },
    {
     "data": {
      "text/html": [
       "<div>\n",
       "<style scoped>\n",
       "    .dataframe tbody tr th:only-of-type {\n",
       "        vertical-align: middle;\n",
       "    }\n",
       "\n",
       "    .dataframe tbody tr th {\n",
       "        vertical-align: top;\n",
       "    }\n",
       "\n",
       "    .dataframe thead th {\n",
       "        text-align: right;\n",
       "    }\n",
       "</style>\n",
       "<table border=\"1\" class=\"dataframe\">\n",
       "  <thead>\n",
       "    <tr style=\"text-align: right;\">\n",
       "      <th></th>\n",
       "      <th>Country</th>\n",
       "      <th>Capital City</th>\n",
       "      <th>Latitude</th>\n",
       "      <th>Longitude</th>\n",
       "      <th>Population</th>\n",
       "      <th>Capital Type</th>\n",
       "    </tr>\n",
       "  </thead>\n",
       "  <tbody>\n",
       "    <tr>\n",
       "      <th>0</th>\n",
       "      <td>Afghanistan</td>\n",
       "      <td>Kabul</td>\n",
       "      <td>34.5289</td>\n",
       "      <td>69.1725</td>\n",
       "      <td>4011770</td>\n",
       "      <td>Capital</td>\n",
       "    </tr>\n",
       "    <tr>\n",
       "      <th>1</th>\n",
       "      <td>Albania</td>\n",
       "      <td>Tiranë (Tirana)</td>\n",
       "      <td>41.3275</td>\n",
       "      <td>19.8189</td>\n",
       "      <td>475577</td>\n",
       "      <td>Capital</td>\n",
       "    </tr>\n",
       "    <tr>\n",
       "      <th>2</th>\n",
       "      <td>Algeria</td>\n",
       "      <td>El Djazaïr  (Algiers)</td>\n",
       "      <td>36.7525</td>\n",
       "      <td>3.0420</td>\n",
       "      <td>2693542</td>\n",
       "      <td>Capital</td>\n",
       "    </tr>\n",
       "    <tr>\n",
       "      <th>3</th>\n",
       "      <td>American Samoa</td>\n",
       "      <td>Pago Pago</td>\n",
       "      <td>-14.2781</td>\n",
       "      <td>-170.7025</td>\n",
       "      <td>48526</td>\n",
       "      <td>Capital</td>\n",
       "    </tr>\n",
       "    <tr>\n",
       "      <th>4</th>\n",
       "      <td>Andorra</td>\n",
       "      <td>Andorra la Vella</td>\n",
       "      <td>42.5078</td>\n",
       "      <td>1.5211</td>\n",
       "      <td>22614</td>\n",
       "      <td>Capital</td>\n",
       "    </tr>\n",
       "  </tbody>\n",
       "</table>\n",
       "</div>"
      ],
      "text/plain": [
       "          Country           Capital City  Latitude  Longitude  Population  \\\n",
       "0     Afghanistan                  Kabul   34.5289    69.1725     4011770   \n",
       "1         Albania        Tiranë (Tirana)   41.3275    19.8189      475577   \n",
       "2         Algeria  El Djazaïr  (Algiers)   36.7525     3.0420     2693542   \n",
       "3  American Samoa              Pago Pago  -14.2781  -170.7025       48526   \n",
       "4         Andorra       Andorra la Vella   42.5078     1.5211       22614   \n",
       "\n",
       "  Capital Type  \n",
       "0      Capital  \n",
       "1      Capital  \n",
       "2      Capital  \n",
       "3      Capital  \n",
       "4      Capital  "
      ]
     },
     "execution_count": 5,
     "metadata": {},
     "output_type": "execute_result"
    }
   ],
   "source": [
    "coords_df = pd.read_csv(\"data/country-capital-lat-long-population.csv\")\n",
    "print(coords_df.shape)\n",
    "coords_df.head()"
   ]
  },
  {
   "cell_type": "code",
   "execution_count": 7,
   "metadata": {},
   "outputs": [
    {
     "data": {
      "text/html": [
       "<div>\n",
       "<style scoped>\n",
       "    .dataframe tbody tr th:only-of-type {\n",
       "        vertical-align: middle;\n",
       "    }\n",
       "\n",
       "    .dataframe tbody tr th {\n",
       "        vertical-align: top;\n",
       "    }\n",
       "\n",
       "    .dataframe thead th {\n",
       "        text-align: right;\n",
       "    }\n",
       "</style>\n",
       "<table border=\"1\" class=\"dataframe\">\n",
       "  <thead>\n",
       "    <tr style=\"text-align: right;\">\n",
       "      <th></th>\n",
       "      <th>Country</th>\n",
       "      <th>Capital City</th>\n",
       "      <th>Latitude</th>\n",
       "      <th>Longitude</th>\n",
       "      <th>Population</th>\n",
       "      <th>Capital Type</th>\n",
       "      <th>ghash</th>\n",
       "    </tr>\n",
       "  </thead>\n",
       "  <tbody>\n",
       "    <tr>\n",
       "      <th>0</th>\n",
       "      <td>Afghanistan</td>\n",
       "      <td>Kabul</td>\n",
       "      <td>34.5289</td>\n",
       "      <td>69.1725</td>\n",
       "      <td>4011770</td>\n",
       "      <td>Capital</td>\n",
       "      <td>202200020030301113</td>\n",
       "    </tr>\n",
       "    <tr>\n",
       "      <th>1</th>\n",
       "      <td>Albania</td>\n",
       "      <td>Tiranë (Tirana)</td>\n",
       "      <td>41.3275</td>\n",
       "      <td>19.8189</td>\n",
       "      <td>475577</td>\n",
       "      <td>Capital</td>\n",
       "      <td>203321201101022300</td>\n",
       "    </tr>\n",
       "    <tr>\n",
       "      <th>2</th>\n",
       "      <td>Algeria</td>\n",
       "      <td>El Djazaïr  (Algiers)</td>\n",
       "      <td>36.7525</td>\n",
       "      <td>3.0420</td>\n",
       "      <td>2693542</td>\n",
       "      <td>Capital</td>\n",
       "      <td>203301322130132033</td>\n",
       "    </tr>\n",
       "    <tr>\n",
       "      <th>3</th>\n",
       "      <td>American Samoa</td>\n",
       "      <td>Pago Pago</td>\n",
       "      <td>-14.2781</td>\n",
       "      <td>-170.7025</td>\n",
       "      <td>48526</td>\n",
       "      <td>Capital</td>\n",
       "      <td>033013032012330302</td>\n",
       "    </tr>\n",
       "    <tr>\n",
       "      <th>4</th>\n",
       "      <td>Andorra</td>\n",
       "      <td>Andorra la Vella</td>\n",
       "      <td>42.5078</td>\n",
       "      <td>1.5211</td>\n",
       "      <td>22614</td>\n",
       "      <td>Capital</td>\n",
       "      <td>203333032110202201</td>\n",
       "    </tr>\n",
       "  </tbody>\n",
       "</table>\n",
       "</div>"
      ],
      "text/plain": [
       "          Country           Capital City  Latitude  Longitude  Population  \\\n",
       "0     Afghanistan                  Kabul   34.5289    69.1725     4011770   \n",
       "1         Albania        Tiranë (Tirana)   41.3275    19.8189      475577   \n",
       "2         Algeria  El Djazaïr  (Algiers)   36.7525     3.0420     2693542   \n",
       "3  American Samoa              Pago Pago  -14.2781  -170.7025       48526   \n",
       "4         Andorra       Andorra la Vella   42.5078     1.5211       22614   \n",
       "\n",
       "  Capital Type               ghash  \n",
       "0      Capital  202200020030301113  \n",
       "1      Capital  203321201101022300  \n",
       "2      Capital  203301322130132033  \n",
       "3      Capital  033013032012330302  \n",
       "4      Capital  203333032110202201  "
      ]
     },
     "execution_count": 7,
     "metadata": {},
     "output_type": "execute_result"
    }
   ],
   "source": [
    "coords_df['ghash'] = coords_df.apply(\n",
    "    lambda x: encode(x['Longitude'], x['Latitude'], precision=18, bits_per_char=2),\n",
    "    axis=1\n",
    ")\n",
    "coords_df.head()"
   ]
  },
  {
   "cell_type": "code",
   "execution_count": 14,
   "metadata": {},
   "outputs": [],
   "source": [
    "coords_df[['Longitude', 'Latitude', 'ghash']].to_csv(\"test_coords_to_ghash.csv\", index=False, sep=\" \")"
   ]
  },
  {
   "cell_type": "code",
   "execution_count": null,
   "metadata": {},
   "outputs": [],
   "source": [
    "coords_df.query(\"ghash == \")"
   ]
  },
  {
   "cell_type": "code",
   "execution_count": 35,
   "metadata": {},
   "outputs": [
    {
     "name": "stderr",
     "output_type": "stream",
     "text": [
      "ic| py_coords: (64.18315887451172, -51.72157287597656)\n",
      "ic| cpp_coords: (64.18384552001953, -51.72157287597656)\n",
      "ic| true_coords: (64.1835, -51.7216)\n"
     ]
    },
    {
     "name": "stdout",
     "output_type": "stream",
     "text": [
      "python:  120220220311022220\n"
     ]
    },
    {
     "data": {
      "text/plain": [
       "(64.1835, -51.7216)"
      ]
     },
     "execution_count": 35,
     "metadata": {},
     "output_type": "execute_result"
    }
   ],
   "source": [
    "py_coords = decode(\"120220220311022220\", bits_per_char=2)[::-1]\n",
    "cpp_coords = decode(\"120220220311022213\", bits_per_char=2)[::-1]\n",
    "true_coords = (-51.7216, 64.1835)[::-1]\n",
    "print(\"python: \", encode(*true_coords[::-1], bits_per_char=2, precision=18))\n",
    "ic(py_coords)\n",
    "ic(cpp_coords)\n",
    "ic(true_coords)"
   ]
  },
  {
   "cell_type": "code",
   "execution_count": 3,
   "metadata": {},
   "outputs": [
    {
     "name": "stderr",
     "output_type": "stream",
     "text": [
      "ic| encode(-51.7216, 64.1835, bits_per_char=2, precision=18): '120220220311022220'\n",
      "/Users/a.ashabokov/Documents/github/graph_tools/graph_isohrones/python/new_geohash.py:211: RuntimeWarning: invalid value encountered in cast\n",
      "  xy[:, flip] = n - 1 - xy[:, flip]\n",
      "ic| new_encode(-51.7216, 64.1835, bits_per_char=2, precision=18): array('120220220300000000', dtype='<U18')\n"
     ]
    },
    {
     "data": {
      "text/plain": [
       "array('120220220300000000', dtype='<U18')"
      ]
     },
     "execution_count": 3,
     "metadata": {},
     "output_type": "execute_result"
    }
   ],
   "source": [
    "ic(encode(-51.7216, 64.1835, bits_per_char=2, precision=18))\n",
    "ic(new_encode(-51.7216, 64.1835, bits_per_char=2, precision=18))"
   ]
  },
  {
   "cell_type": "code",
   "execution_count": 10,
   "metadata": {},
   "outputs": [
    {
     "name": "stdout",
     "output_type": "stream",
     "text": [
      "CPU times: user 53.1 s, sys: 27.7 ms, total: 53.1 s\n",
      "Wall time: 54 s\n"
     ]
    }
   ],
   "source": [
    "%%time\n",
    "for _ in range(10_000_000):\n",
    "    encode(-51.7216, 64.1835, bits_per_char=2, precision=18)"
   ]
  },
  {
   "cell_type": "code",
   "execution_count": 11,
   "metadata": {},
   "outputs": [
    {
     "name": "stderr",
     "output_type": "stream",
     "text": [
      "/Users/a.ashabokov/Documents/github/graph_tools/graph_isohrones/python/new_geohash.py:211: RuntimeWarning: invalid value encountered in cast\n",
      "  xy[:, flip] = n - 1 - xy[:, flip]\n"
     ]
    },
    {
     "ename": "KeyboardInterrupt",
     "evalue": "",
     "output_type": "error",
     "traceback": [
      "\u001b[0;31m---------------------------------------------------------------------------\u001b[0m",
      "\u001b[0;31mKeyboardInterrupt\u001b[0m                         Traceback (most recent call last)",
      "File \u001b[0;32m<timed exec>:2\u001b[0m\n",
      "File \u001b[0;32m~/Documents/github/graph_tools/graph_isohrones/python/new_geohash.py:66\u001b[0m, in \u001b[0;36mencode\u001b[0;34m(lng, lat, precision, bits_per_char)\u001b[0m\n\u001b[1;32m     62\u001b[0m dim \u001b[38;5;241m=\u001b[39m \u001b[38;5;241m1\u001b[39m \u001b[38;5;241m<<\u001b[39m level\n\u001b[1;32m     64\u001b[0m x, y \u001b[38;5;241m=\u001b[39m _coord2int(lng, lat, dim)\n\u001b[0;32m---> 66\u001b[0m code \u001b[38;5;241m=\u001b[39m \u001b[43m_xy2hash\u001b[49m\u001b[43m(\u001b[49m\u001b[43mx\u001b[49m\u001b[43m,\u001b[49m\u001b[43m \u001b[49m\u001b[43my\u001b[49m\u001b[43m,\u001b[49m\u001b[43m \u001b[49m\u001b[43mdim\u001b[49m\u001b[43m)\u001b[49m\n\u001b[1;32m     68\u001b[0m \u001b[38;5;28;01mreturn\u001b[39;00m np\u001b[38;5;241m.\u001b[39mchar\u001b[38;5;241m.\u001b[39mrjust(encode_int(code, bits_per_char), precision, \u001b[38;5;124m\"\u001b[39m\u001b[38;5;124m0\u001b[39m\u001b[38;5;124m\"\u001b[39m)\n",
      "File \u001b[0;32m~/Documents/github/graph_tools/graph_isohrones/python/new_geohash.py:185\u001b[0m, in \u001b[0;36m_xy2hash\u001b[0;34m(x, y, dim)\u001b[0m\n\u001b[1;32m    183\u001b[0m     d \u001b[38;5;241m+\u001b[39m\u001b[38;5;241m=\u001b[39m lvl \u001b[38;5;241m*\u001b[39m lvl \u001b[38;5;241m*\u001b[39m ((np\u001b[38;5;241m.\u001b[39muint64(\u001b[38;5;241m3\u001b[39m) \u001b[38;5;241m*\u001b[39m rx) \u001b[38;5;241m^\u001b[39m ry)\n\u001b[1;32m    184\u001b[0m     x, y \u001b[38;5;241m=\u001b[39m _rotate(lvl, x, y, rx, ry)\n\u001b[0;32m--> 185\u001b[0m     lvl \u001b[38;5;241m>>\u001b[39m\u001b[38;5;241m=\u001b[39m \u001b[43mnp\u001b[49m\u001b[38;5;241;43m.\u001b[39;49m\u001b[43muint64\u001b[49m\u001b[43m(\u001b[49m\u001b[38;5;241;43m1\u001b[39;49m\u001b[43m)\u001b[49m\n\u001b[1;32m    186\u001b[0m \u001b[38;5;28;01mreturn\u001b[39;00m d\n",
      "\u001b[0;31mKeyboardInterrupt\u001b[0m: "
     ]
    }
   ],
   "source": [
    "%%time\n",
    "for _ in range(10_000_000):\n",
    "    new_encode(-51.7216, 64.1835, bits_per_char=2, precision=18)"
   ]
  },
  {
   "cell_type": "code",
   "execution_count": 11,
   "metadata": {},
   "outputs": [
    {
     "name": "stdout",
     "output_type": "stream",
     "text": [
      "CPU times: user 16.5 s, sys: 7.66 ms, total: 16.5 s\n",
      "Wall time: 16.7 s\n"
     ]
    }
   ],
   "source": [
    "%%time\n",
    "\n",
    "for _ in range(10_000_000):\n",
    "    graph_utils.geohash_encode(-51.7216, 64.1835, 18, 2)"
   ]
  },
  {
   "cell_type": "code",
   "execution_count": 6,
   "metadata": {},
   "outputs": [
    {
     "name": "stdout",
     "output_type": "stream",
     "text": [
      "CPU times: user 4.54 s, sys: 2.48 ms, total: 4.54 s\n",
      "Wall time: 4.62 s\n"
     ]
    }
   ],
   "source": [
    "%%time\n",
    "for _ in range(10_000_000):\n",
    "    dskit_encode((-51.7216, 64.1835), 18)"
   ]
  },
  {
   "cell_type": "code",
   "execution_count": 10,
   "metadata": {},
   "outputs": [
    {
     "name": "stdout",
     "output_type": "stream",
     "text": [
      "CPU times: user 52.6 s, sys: 22.7 ms, total: 52.6 s\n",
      "Wall time: 53.6 s\n"
     ]
    }
   ],
   "source": [
    "%%time\n",
    "for _ in range(10_000_000):\n",
    "    encode_v2(-51.7216, 64.1835, 18, 2)"
   ]
  }
 ],
 "metadata": {
  "kernelspec": {
   "display_name": "base_env",
   "language": "python",
   "name": "python3"
  },
  "language_info": {
   "codemirror_mode": {
    "name": "ipython",
    "version": 3
   },
   "file_extension": ".py",
   "mimetype": "text/x-python",
   "name": "python",
   "nbconvert_exporter": "python",
   "pygments_lexer": "ipython3",
   "version": "3.12.0"
  }
 },
 "nbformat": 4,
 "nbformat_minor": 2
}
